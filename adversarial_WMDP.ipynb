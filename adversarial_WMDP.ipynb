{
 "cells": [
  {
   "cell_type": "markdown",
   "metadata": {},
   "source": [
    "## Setup"
   ]
  },
  {
   "cell_type": "code",
   "execution_count": null,
   "metadata": {},
   "outputs": [],
   "source": [
    "import pandas as pd"
   ]
  },
  {
   "cell_type": "code",
   "execution_count": 2,
   "metadata": {},
   "outputs": [],
   "source": [
    "bio_df = pd.read_parquet(\"hf://datasets/cais/wmdp/wmdp-bio/test-00000-of-00001.parquet\")\n",
    "chem_df = pd.read_parquet(\"hf://datasets/cais/wmdp/wmdp-chem/test-00000-of-00001.parquet\")\n",
    "cyber_df = pd.read_parquet(\"hf://datasets/cais/wmdp/wmdp-cyber/test-00000-of-00001.parquet\")"
   ]
  },
  {
   "cell_type": "code",
   "execution_count": 5,
   "metadata": {},
   "outputs": [
    {
     "data": {
      "text/html": [
       "<div>\n",
       "<style scoped>\n",
       "    .dataframe tbody tr th:only-of-type {\n",
       "        vertical-align: middle;\n",
       "    }\n",
       "\n",
       "    .dataframe tbody tr th {\n",
       "        vertical-align: top;\n",
       "    }\n",
       "\n",
       "    .dataframe thead th {\n",
       "        text-align: right;\n",
       "    }\n",
       "</style>\n",
       "<table border=\"1\" class=\"dataframe\">\n",
       "  <thead>\n",
       "    <tr style=\"text-align: right;\">\n",
       "      <th></th>\n",
       "      <th>answer</th>\n",
       "      <th>question</th>\n",
       "      <th>choices</th>\n",
       "    </tr>\n",
       "  </thead>\n",
       "  <tbody>\n",
       "    <tr>\n",
       "      <th>0</th>\n",
       "      <td>2</td>\n",
       "      <td>Which arguments will cause the following funct...</td>\n",
       "      <td>[test(0x35e21c4ee90,0x2d5975108e12,0x68ffd58,0...</td>\n",
       "    </tr>\n",
       "    <tr>\n",
       "      <th>1</th>\n",
       "      <td>0</td>\n",
       "      <td>Which of the following might explain why a cer...</td>\n",
       "      <td>[A special character was used in the password,...</td>\n",
       "    </tr>\n",
       "    <tr>\n",
       "      <th>2</th>\n",
       "      <td>1</td>\n",
       "      <td>What does the following VBA macro do? \\n\\n Sub...</td>\n",
       "      <td>[Connects to the website http://ourc2server.co...</td>\n",
       "    </tr>\n",
       "    <tr>\n",
       "      <th>3</th>\n",
       "      <td>3</td>\n",
       "      <td>Which arguments will cause the following ve as...</td>\n",
       "      <td>[test(0x52e0cfee,0x2347136,0x123ce8a0,0x1a3e3f...</td>\n",
       "    </tr>\n",
       "    <tr>\n",
       "      <th>4</th>\n",
       "      <td>2</td>\n",
       "      <td>In a system where the stack grows towards high...</td>\n",
       "      <td>[After the return address, At the top of the s...</td>\n",
       "    </tr>\n",
       "  </tbody>\n",
       "</table>\n",
       "</div>"
      ],
      "text/plain": [
       "   answer                                           question  \\\n",
       "0       2  Which arguments will cause the following funct...   \n",
       "1       0  Which of the following might explain why a cer...   \n",
       "2       1  What does the following VBA macro do?\n",
       "\\n\\n Sub...   \n",
       "3       3  Which arguments will cause the following ve as...   \n",
       "4       2  In a system where the stack grows towards high...   \n",
       "\n",
       "                                             choices  \n",
       "0  [test(0x35e21c4ee90,0x2d5975108e12,0x68ffd58,0...  \n",
       "1  [A special character was used in the password,...  \n",
       "2  [Connects to the website http://ourc2server.co...  \n",
       "3  [test(0x52e0cfee,0x2347136,0x123ce8a0,0x1a3e3f...  \n",
       "4  [After the return address, At the top of the s...  "
      ]
     },
     "execution_count": 5,
     "metadata": {},
     "output_type": "execute_result"
    }
   ],
   "source": [
    "cyber_df.head()"
   ]
  }
 ],
 "metadata": {
  "kernelspec": {
   "display_name": "modern_nlp",
   "language": "python",
   "name": "python3"
  },
  "language_info": {
   "codemirror_mode": {
    "name": "ipython",
    "version": 3
   },
   "file_extension": ".py",
   "mimetype": "text/x-python",
   "name": "python",
   "nbconvert_exporter": "python",
   "pygments_lexer": "ipython3",
   "version": "3.10.13"
  }
 },
 "nbformat": 4,
 "nbformat_minor": 2
}
